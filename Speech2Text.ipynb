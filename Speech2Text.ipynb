{
  "nbformat": 4,
  "nbformat_minor": 0,
  "metadata": {
    "colab": {
      "name": "Speech2Text.ipynb",
      "provenance": [],
      "mount_file_id": "1xpOwDDtXRxuixntoawyeAuHkpSBiPtQM",
      "authorship_tag": "ABX9TyOhN08plWavXxVDeuU9Dw56",
      "include_colab_link": true
    },
    "kernelspec": {
      "name": "python3",
      "display_name": "Python 3"
    }
  },
  "cells": [
    {
      "cell_type": "markdown",
      "metadata": {
        "id": "view-in-github",
        "colab_type": "text"
      },
      "source": [
        "<a href=\"https://colab.research.google.com/github/jessifebria/Speech2Text-and-Translator-with-IBM_watson/blob/main/Speech2Text.ipynb\" target=\"_parent\"><img src=\"https://colab.research.google.com/assets/colab-badge.svg\" alt=\"Open In Colab\"/></a>"
      ]
    },
    {
      "cell_type": "code",
      "metadata": {
        "id": "ePJr6A_WO_hG",
        "colab": {
          "base_uri": "https://localhost:8080/",
          "height": 592
        },
        "outputId": "39a5a2e6-894d-4d54-c7e6-ecff697e0cbd"
      },
      "source": [
        "!pip install ibm_watson wget"
      ],
      "execution_count": null,
      "outputs": [
        {
          "output_type": "stream",
          "text": [
            "Collecting ibm_watson\n",
            "\u001b[?25l  Downloading https://files.pythonhosted.org/packages/a2/3c/c2cfb41db546fe98820e89017c892d73991cef61b9c48680191fe703a214/ibm-watson-4.7.1.tar.gz (385kB)\n",
            "\r\u001b[K     |▉                               | 10kB 14.7MB/s eta 0:00:01\r\u001b[K     |█▊                              | 20kB 2.1MB/s eta 0:00:01\r\u001b[K     |██▌                             | 30kB 2.7MB/s eta 0:00:01\r\u001b[K     |███▍                            | 40kB 3.0MB/s eta 0:00:01\r\u001b[K     |████▎                           | 51kB 2.5MB/s eta 0:00:01\r\u001b[K     |█████                           | 61kB 2.8MB/s eta 0:00:01\r\u001b[K     |██████                          | 71kB 3.0MB/s eta 0:00:01\r\u001b[K     |██████▉                         | 81kB 3.2MB/s eta 0:00:01\r\u001b[K     |███████▋                        | 92kB 3.5MB/s eta 0:00:01\r\u001b[K     |████████▌                       | 102kB 3.4MB/s eta 0:00:01\r\u001b[K     |█████████▍                      | 112kB 3.4MB/s eta 0:00:01\r\u001b[K     |██████████▏                     | 122kB 3.4MB/s eta 0:00:01\r\u001b[K     |███████████                     | 133kB 3.4MB/s eta 0:00:01\r\u001b[K     |████████████                    | 143kB 3.4MB/s eta 0:00:01\r\u001b[K     |████████████▊                   | 153kB 3.4MB/s eta 0:00:01\r\u001b[K     |█████████████▋                  | 163kB 3.4MB/s eta 0:00:01\r\u001b[K     |██████████████▌                 | 174kB 3.4MB/s eta 0:00:01\r\u001b[K     |███████████████▎                | 184kB 3.4MB/s eta 0:00:01\r\u001b[K     |████████████████▏               | 194kB 3.4MB/s eta 0:00:01\r\u001b[K     |█████████████████               | 204kB 3.4MB/s eta 0:00:01\r\u001b[K     |█████████████████▉              | 215kB 3.4MB/s eta 0:00:01\r\u001b[K     |██████████████████▊             | 225kB 3.4MB/s eta 0:00:01\r\u001b[K     |███████████████████▋            | 235kB 3.4MB/s eta 0:00:01\r\u001b[K     |████████████████████▍           | 245kB 3.4MB/s eta 0:00:01\r\u001b[K     |█████████████████████▎          | 256kB 3.4MB/s eta 0:00:01\r\u001b[K     |██████████████████████▏         | 266kB 3.4MB/s eta 0:00:01\r\u001b[K     |███████████████████████         | 276kB 3.4MB/s eta 0:00:01\r\u001b[K     |███████████████████████▉        | 286kB 3.4MB/s eta 0:00:01\r\u001b[K     |████████████████████████▋       | 296kB 3.4MB/s eta 0:00:01\r\u001b[K     |█████████████████████████▌      | 307kB 3.4MB/s eta 0:00:01\r\u001b[K     |██████████████████████████▍     | 317kB 3.4MB/s eta 0:00:01\r\u001b[K     |███████████████████████████▏    | 327kB 3.4MB/s eta 0:00:01\r\u001b[K     |████████████████████████████    | 337kB 3.4MB/s eta 0:00:01\r\u001b[K     |█████████████████████████████   | 348kB 3.4MB/s eta 0:00:01\r\u001b[K     |█████████████████████████████▊  | 358kB 3.4MB/s eta 0:00:01\r\u001b[K     |██████████████████████████████▋ | 368kB 3.4MB/s eta 0:00:01\r\u001b[K     |███████████████████████████████▌| 378kB 3.4MB/s eta 0:00:01\r\u001b[K     |████████████████████████████████| 389kB 3.4MB/s \n",
            "\u001b[?25hCollecting wget\n",
            "  Downloading https://files.pythonhosted.org/packages/47/6a/62e288da7bcda82b935ff0c6cfe542970f04e29c756b0e147251b2fb251f/wget-3.2.zip\n",
            "Requirement already satisfied: requests<3.0,>=2.0 in /usr/local/lib/python3.6/dist-packages (from ibm_watson) (2.23.0)\n",
            "Requirement already satisfied: python_dateutil>=2.5.3 in /usr/local/lib/python3.6/dist-packages (from ibm_watson) (2.8.1)\n",
            "Collecting websocket-client==0.48.0\n",
            "\u001b[?25l  Downloading https://files.pythonhosted.org/packages/8a/a1/72ef9aa26cfe1a75cee09fc1957e4723add9de098c15719416a1ee89386b/websocket_client-0.48.0-py2.py3-none-any.whl (198kB)\n",
            "\u001b[K     |████████████████████████████████| 204kB 9.7MB/s \n",
            "\u001b[?25hCollecting ibm_cloud_sdk_core==1.7.3\n",
            "  Downloading https://files.pythonhosted.org/packages/b7/23/aa9ae242f6348a1ed28fca2e6d3e76e043c3db951f9b516e1992518fe2c3/ibm-cloud-sdk-core-1.7.3.tar.gz\n",
            "Requirement already satisfied: chardet<4,>=3.0.2 in /usr/local/lib/python3.6/dist-packages (from requests<3.0,>=2.0->ibm_watson) (3.0.4)\n",
            "Requirement already satisfied: certifi>=2017.4.17 in /usr/local/lib/python3.6/dist-packages (from requests<3.0,>=2.0->ibm_watson) (2020.6.20)\n",
            "Requirement already satisfied: urllib3!=1.25.0,!=1.25.1,<1.26,>=1.21.1 in /usr/local/lib/python3.6/dist-packages (from requests<3.0,>=2.0->ibm_watson) (1.24.3)\n",
            "Requirement already satisfied: idna<3,>=2.5 in /usr/local/lib/python3.6/dist-packages (from requests<3.0,>=2.0->ibm_watson) (2.10)\n",
            "Requirement already satisfied: six>=1.5 in /usr/local/lib/python3.6/dist-packages (from python_dateutil>=2.5.3->ibm_watson) (1.15.0)\n",
            "Collecting PyJWT>=1.7.1\n",
            "  Downloading https://files.pythonhosted.org/packages/87/8b/6a9f14b5f781697e51259d81657e6048fd31a113229cf346880bb7545565/PyJWT-1.7.1-py2.py3-none-any.whl\n",
            "Building wheels for collected packages: ibm-watson, wget, ibm-cloud-sdk-core\n",
            "  Building wheel for ibm-watson (setup.py) ... \u001b[?25l\u001b[?25hdone\n",
            "  Created wheel for ibm-watson: filename=ibm_watson-4.7.1-cp36-none-any.whl size=379133 sha256=636cf808a150f17de577176d779df84ac0456d26bdf503a73e4ccb8868790960\n",
            "  Stored in directory: /root/.cache/pip/wheels/6e/14/69/dbbd573a3bab3bf64984572284f13f174f430038308abdd73c\n",
            "  Building wheel for wget (setup.py) ... \u001b[?25l\u001b[?25hdone\n",
            "  Created wheel for wget: filename=wget-3.2-cp36-none-any.whl size=9682 sha256=3d2ddc5c3a06832ed4e879d9d856f32c9c62f037f38c9463bce229f6d49c3cc6\n",
            "  Stored in directory: /root/.cache/pip/wheels/40/15/30/7d8f7cea2902b4db79e3fea550d7d7b85ecb27ef992b618f3f\n",
            "  Building wheel for ibm-cloud-sdk-core (setup.py) ... \u001b[?25l\u001b[?25hdone\n",
            "  Created wheel for ibm-cloud-sdk-core: filename=ibm_cloud_sdk_core-1.7.3-cp36-none-any.whl size=45945 sha256=59751807b6ccf5bba48f72b6004a9b0663f1ed922d529f7046fc4d23c1d5439e\n",
            "  Stored in directory: /root/.cache/pip/wheels/34/6e/58/589e0f841c2fae9dad99630d78ddc7a60c5c7663a16a39cdbb\n",
            "Successfully built ibm-watson wget ibm-cloud-sdk-core\n",
            "Installing collected packages: websocket-client, PyJWT, ibm-cloud-sdk-core, ibm-watson, wget\n",
            "Successfully installed PyJWT-1.7.1 ibm-cloud-sdk-core-1.7.3 ibm-watson-4.7.1 websocket-client-0.48.0 wget-3.2\n"
          ],
          "name": "stdout"
        }
      ]
    },
    {
      "cell_type": "code",
      "metadata": {
        "id": "Ouz4EWqaPNdK"
      },
      "source": [
        "from ibm_watson import SpeechToTextV1 \n",
        "import json\n",
        "from ibm_cloud_sdk_core.authenticators import IAMAuthenticator\n"
      ],
      "execution_count": null,
      "outputs": []
    },
    {
      "cell_type": "code",
      "metadata": {
        "id": "V8FH9P7CPUeF"
      },
      "source": [
        "url_s2t=\"https://api.kr-seo.speech-to-text.watson.cloud.ibm.com/instances/5e135bdd-29a1-49d4-8b0b-b1cadbe61ed6\"\n",
        "iam_apikey_s2t= \"GZvkdOH84MLDx8YY3v8fEVz8OwlG44grrEQansMLT3jV\"\n",
        "\n",
        "authenticator = IAMAuthenticator(iam_apikey_s2t)\n",
        "service = SpeechToTextV1(authenticator=authenticator)\n",
        "service.set_service_url(url_s2t)\n"
      ],
      "execution_count": null,
      "outputs": []
    },
    {
      "cell_type": "code",
      "metadata": {
        "id": "enjFsL8lRa6m",
        "colab": {
          "base_uri": "https://localhost:8080/",
          "height": 69
        },
        "outputId": "092f2d30-9a1c-4adc-c455-5670937273c4"
      },
      "source": [
        "from google.colab import drive\n",
        "\n",
        "filepath = '/content/drive/My Drive/s2t.mp3'\n",
        "\n",
        "with open(filepath, mode=\"rb\") as sound:\n",
        "  response = service.recognize(audio=sound, content_type='audio/mp3')\n",
        "\n"
      ],
      "execution_count": null,
      "outputs": [
        {
          "output_type": "execute_result",
          "data": {
            "text/plain": [
              "[{'alternatives': [{'confidence': 0.3,\n",
              "    'transcript': 'hello nama Sayang cheesy phobia siap at KLIA the only offensive basket eastern sake I want China sought BK '}],\n",
              "  'final': True}]"
            ]
          },
          "metadata": {
            "tags": []
          },
          "execution_count": 15
        }
      ]
    },
    {
      "cell_type": "code",
      "metadata": {
        "id": "_fDZN5JnUSx8",
        "colab": {
          "base_uri": "https://localhost:8080/",
          "height": 35
        },
        "outputId": "851aba87-ba82-40d2-9c34-594ef79dda59"
      },
      "source": [
        "response.result['results'][0]['alternatives'][0]['transcript']"
      ],
      "execution_count": null,
      "outputs": [
        {
          "output_type": "execute_result",
          "data": {
            "application/vnd.google.colaboratory.intrinsic+json": {
              "type": "string"
            },
            "text/plain": [
              "'hello nama Sayang cheesy phobia siap at KLIA the only offensive basket eastern sake I want China sought BK '"
            ]
          },
          "metadata": {
            "tags": []
          },
          "execution_count": 24
        }
      ]
    },
    {
      "cell_type": "code",
      "metadata": {
        "id": "OgSXuqd6U15v"
      },
      "source": [
        "filepath = '/content/drive/My Drive/s2tjessi.mp3'\n",
        "\n",
        "with open(filepath, mode=\"rb\") as sound:\n",
        "  response2 = service.recognize(audio=sound, content_type='audio/mp3')"
      ],
      "execution_count": null,
      "outputs": []
    },
    {
      "cell_type": "code",
      "metadata": {
        "id": "aXKQrcH1VM-q",
        "colab": {
          "base_uri": "https://localhost:8080/",
          "height": 89
        },
        "outputId": "fde4645b-35ae-4f2e-e90a-15b838cbe7c7"
      },
      "source": [
        "s2tjessi=\"\"\n",
        "for i in range(len(response2.result['results'])):\n",
        "  s2tjessi = s2tjessi + \" \" + response2.result['results'][i]['alternatives'][0]['transcript']\n",
        "  print(response2.result['results'][i]['alternatives'][0]['transcript'])\n"
      ],
      "execution_count": null,
      "outputs": [
        {
          "output_type": "stream",
          "text": [
            "hello my name is Jay Z. for PS \n",
            "I am nineteen years old I am living in bell end Santosh how far in the summertime I can see \n",
            "now I am studying about computer science and I have a lot of phobias such as switching movies and I hope they do both but I'm not so what you will be is my favorite \n"
          ],
          "name": "stdout"
        }
      ]
    },
    {
      "cell_type": "code",
      "metadata": {
        "id": "1zpDxn61VFTk"
      },
      "source": [
        "filepath = '/content/drive/My Drive/s2talgorithm.mp3'\n",
        "\n",
        "with open(filepath, mode=\"rb\") as sound:\n",
        "  response3 = service.recognize(audio=sound, content_type='audio/mp3')"
      ],
      "execution_count": null,
      "outputs": []
    },
    {
      "cell_type": "code",
      "metadata": {
        "id": "WsMvVcg7XPCU",
        "colab": {
          "base_uri": "https://localhost:8080/",
          "height": 89
        },
        "outputId": "20a4b208-bdff-4122-dbe8-c4809989a5e7"
      },
      "source": [
        "for i in range(len(response2.result['results'])):\n",
        "  print(response3.result['results'][i]['alternatives'][0]['transcript'])\n"
      ],
      "execution_count": null,
      "outputs": [
        {
          "output_type": "stream",
          "text": [
            "okay to do the gonna learn about what is and I'll go do them an algorithm is over in Italy's off instruction must often use in solving problems are performing tasks you may have heard the term used in some fancy contacts about a genius using an algorithm to do something quickly complex usually in programming indeed Q. most likely heard two term used to explain most things related to computer process however what food you say if I was to tell you that there is a very good chance that you yourself have followed and I'll go to them \n",
            "you may have followed some algorithms hundreds or thousands of times so %HESITATION real life of already done have you ever bake or cook something one of the most obvious examples of an elbow to Tommy said he sees it as a visa please of instruction used to perform at the S. \n",
            "for example if you were to follow the algorithm to create brownies from a box make you will follow the three to five step process rated on the book off the books one of the attributes of an algorithm is that since it is a lease off instruction there is some step by step process that occurs in order very often D. ordered that the steps are given in can make a big difference suppose you were to order the steps of dirty sheep on the back off the brownie box and told somebody to put the brownies in the oven for twenty two minutes before we all done to pre had to often that will be silly that's why the oddity of two steps is very important \n"
          ],
          "name": "stdout"
        }
      ]
    },
    {
      "cell_type": "code",
      "metadata": {
        "id": "ph-WZfq4XmNf"
      },
      "source": [
        "from ibm_watson import LanguageTranslatorV3\n",
        "\n",
        "apikey_lt='FLJGvejp0AyGZsbQWU99Z74_4wSgkA--ju2y-JxTmyZV'\n",
        "url_lt='https://api.kr-seo.language-translator.watson.cloud.ibm.com/instances/1181ae14-6112-4362-ad2b-668ec9142e37'\n",
        "\n",
        "version_lt='2018-05-01'\n",
        "\n",
        "authenticator = IAMAuthenticator(apikey_lt)\n",
        "lt = LanguageTranslatorV3(version=version_lt,authenticator=authenticator)\n",
        "lt.set_service_url(url_lt)\n"
      ],
      "execution_count": null,
      "outputs": []
    },
    {
      "cell_type": "code",
      "metadata": {
        "id": "2n7qAJN-X6g0",
        "colab": {
          "base_uri": "https://localhost:8080/",
          "height": 1000
        },
        "outputId": "35cb8215-cb44-4943-d63f-9ac06e5e4b6c"
      },
      "source": [
        "lt.list_identifiable_languages().get_result()"
      ],
      "execution_count": null,
      "outputs": [
        {
          "output_type": "execute_result",
          "data": {
            "text/plain": [
              "{'languages': [{'language': 'af', 'name': 'Afrikaans'},\n",
              "  {'language': 'ar', 'name': 'Arabic'},\n",
              "  {'language': 'az', 'name': 'Azerbaijani'},\n",
              "  {'language': 'ba', 'name': 'Bashkir'},\n",
              "  {'language': 'be', 'name': 'Belarusian'},\n",
              "  {'language': 'bg', 'name': 'Bulgarian'},\n",
              "  {'language': 'bn', 'name': 'Bengali'},\n",
              "  {'language': 'ca', 'name': 'Catalan'},\n",
              "  {'language': 'cs', 'name': 'Czech'},\n",
              "  {'language': 'cv', 'name': 'Chuvash'},\n",
              "  {'language': 'cy', 'name': 'Welsh'},\n",
              "  {'language': 'da', 'name': 'Danish'},\n",
              "  {'language': 'de', 'name': 'German'},\n",
              "  {'language': 'el', 'name': 'Greek'},\n",
              "  {'language': 'en', 'name': 'English'},\n",
              "  {'language': 'eo', 'name': 'Esperanto'},\n",
              "  {'language': 'es', 'name': 'Spanish'},\n",
              "  {'language': 'et', 'name': 'Estonian'},\n",
              "  {'language': 'eu', 'name': 'Basque'},\n",
              "  {'language': 'fa', 'name': 'Persian'},\n",
              "  {'language': 'fi', 'name': 'Finnish'},\n",
              "  {'language': 'fr', 'name': 'French'},\n",
              "  {'language': 'ga', 'name': 'Irish'},\n",
              "  {'language': 'gu', 'name': 'Gujarati'},\n",
              "  {'language': 'he', 'name': 'Hebrew'},\n",
              "  {'language': 'hi', 'name': 'Hindi'},\n",
              "  {'language': 'hr', 'name': 'Croatian'},\n",
              "  {'language': 'ht', 'name': 'Haitian'},\n",
              "  {'language': 'hu', 'name': 'Hungarian'},\n",
              "  {'language': 'hy', 'name': 'Armenian'},\n",
              "  {'language': 'is', 'name': 'Icelandic'},\n",
              "  {'language': 'it', 'name': 'Italian'},\n",
              "  {'language': 'ja', 'name': 'Japanese'},\n",
              "  {'language': 'ka', 'name': 'Georgian'},\n",
              "  {'language': 'kk', 'name': 'Kazakh'},\n",
              "  {'language': 'km', 'name': 'Central Khmer'},\n",
              "  {'language': 'ko', 'name': 'Korean'},\n",
              "  {'language': 'ku', 'name': 'Kurdish'},\n",
              "  {'language': 'ky', 'name': 'Kirghiz'},\n",
              "  {'language': 'lo', 'name': 'Lao'},\n",
              "  {'language': 'lt', 'name': 'Lithuanian'},\n",
              "  {'language': 'lv', 'name': 'Latvian'},\n",
              "  {'language': 'ml', 'name': 'Malayalam'},\n",
              "  {'language': 'mn', 'name': 'Mongolian'},\n",
              "  {'language': 'mr', 'name': 'Marathi'},\n",
              "  {'language': 'ms', 'name': 'Malay'},\n",
              "  {'language': 'mt', 'name': 'Maltese'},\n",
              "  {'language': 'my', 'name': 'Burmese'},\n",
              "  {'language': 'nb', 'name': 'Norwegian Bokmal'},\n",
              "  {'language': 'ne', 'name': 'Nepali'},\n",
              "  {'language': 'nl', 'name': 'Dutch'},\n",
              "  {'language': 'nn', 'name': 'Norwegian Nynorsk'},\n",
              "  {'language': 'pa', 'name': 'Punjabi'},\n",
              "  {'language': 'pa-PK', 'name': 'Punjabi (Shahmukhi script, Pakistan)'},\n",
              "  {'language': 'pl', 'name': 'Polish'},\n",
              "  {'language': 'ps', 'name': 'Pushto'},\n",
              "  {'language': 'pt', 'name': 'Portuguese'},\n",
              "  {'language': 'ro', 'name': 'Romanian'},\n",
              "  {'language': 'ru', 'name': 'Russian'},\n",
              "  {'language': 'si', 'name': 'Sinhala'},\n",
              "  {'language': 'sk', 'name': 'Slovakian'},\n",
              "  {'language': 'sl', 'name': 'Slovenian'},\n",
              "  {'language': 'so', 'name': 'Somali'},\n",
              "  {'language': 'sq', 'name': 'Albanian'},\n",
              "  {'language': 'sr', 'name': 'Serbian'},\n",
              "  {'language': 'sv', 'name': 'Swedish'},\n",
              "  {'language': 'ta', 'name': 'Tamil'},\n",
              "  {'language': 'te', 'name': 'Telugu'},\n",
              "  {'language': 'th', 'name': 'Thai'},\n",
              "  {'language': 'tl', 'name': 'Tagalog'},\n",
              "  {'language': 'tr', 'name': 'Turkish'},\n",
              "  {'language': 'uk', 'name': 'Ukrainian'},\n",
              "  {'language': 'ur', 'name': 'Urdu'},\n",
              "  {'language': 'vi', 'name': 'Vietnamese'},\n",
              "  {'language': 'zh', 'name': 'Simplified Chinese'},\n",
              "  {'language': 'zh-TW', 'name': 'Traditional Chinese'}]}"
            ]
          },
          "metadata": {
            "tags": []
          },
          "execution_count": 50
        }
      ]
    },
    {
      "cell_type": "code",
      "metadata": {
        "id": "6H_vmco8YN_p"
      },
      "source": [
        "translate = lt.translate(text=s2tjessi, model_id=\"en-ms\").get_result()\n"
      ],
      "execution_count": null,
      "outputs": []
    },
    {
      "cell_type": "code",
      "metadata": {
        "id": "1_94Js5pZOLE",
        "colab": {
          "base_uri": "https://localhost:8080/",
          "height": 55
        },
        "outputId": "ef563ce0-e228-4123-b6a4-f0bb3aaec742"
      },
      "source": [
        "jessitranslate = translate['translations'][0]['translation']\n",
        "\n",
        "print(jessitranslate)"
      ],
      "execution_count": null,
      "outputs": [
        {
          "output_type": "stream",
          "text": [
            " Hello nama saya ialah Jay Z. Untuk PS saya berusia 19 tahun, saya tinggal di bell end Santosh sejauh mana yang saya boleh lihat sekarang saya belajar tentang sains komputer dan saya mempunyai banyak fobia seperti menukar filem dan saya harap mereka lakukan kedua-duanya tetapi saya tidak begitu apa yang anda akan menjadi kegemaran saya \n"
          ],
          "name": "stdout"
        }
      ]
    },
    {
      "cell_type": "code",
      "metadata": {
        "id": "0vzdpKwnZQbm"
      },
      "source": [
        ""
      ],
      "execution_count": null,
      "outputs": []
    }
  ]
}